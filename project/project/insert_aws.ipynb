{
 "cells": [
  {
   "cell_type": "code",
   "execution_count": 3,
   "id": "0a704914-0086-4d36-b229-3a9fc13abe6b",
   "metadata": {
    "tags": []
   },
   "outputs": [
    {
     "name": "stdout",
     "output_type": "stream",
     "text": [
      "[dynamodb.Table(name='historico'), dynamodb.Table(name='medicamentos'), dynamodb.Table(name='medicamentosv2'), dynamodb.Table(name='receitas')]\n"
     ]
    }
   ],
   "source": [
    "import boto3\n",
    "dynamodb = boto3.resource('dynamodb')\n",
    "print(list(dynamodb.tables.all()))"
   ]
  },
  {
   "cell_type": "code",
   "execution_count": 3,
   "id": "85830631-6d2f-4621-9741-1c9e17f3ba18",
   "metadata": {
    "tags": []
   },
   "outputs": [],
   "source": [
    "table = dynamodb.create_table(\n",
    "    TableName='medicamentosv2',\n",
    "    KeySchema=[\n",
    "        {\n",
    "            'AttributeName': 'id',\n",
    "            'KeyType': 'HASH'\n",
    "        }\n",
    "    ],\n",
    "    AttributeDefinitions=[\n",
    "        {\n",
    "            'AttributeName': 'id',\n",
    "            'AttributeType': 'N'\n",
    "        },\n",
    "    ],\n",
    "    ProvisionedThroughput={\n",
    "        'ReadCapacityUnits': 1,\n",
    "        'WriteCapacityUnits': 1\n",
    "    }\n",
    ")"
   ]
  },
  {
   "cell_type": "code",
   "execution_count": null,
   "id": "e9706e5b-79dd-4edc-9e2b-adacd2000afc",
   "metadata": {},
   "outputs": [],
   "source": []
  },
  {
   "cell_type": "code",
   "execution_count": 9,
   "id": "e08dd116-55e6-49f1-9a53-4c91eb80f4cc",
   "metadata": {
    "tags": []
   },
   "outputs": [],
   "source": [
    "medicamento1 = {\n",
    "'id': 1,\n",
    "'nome': 'Paracetamol',\n",
    "'nomeGenerico': 'Tylenol',\n",
    "'imagem': '1.png',\n",
    "'dosagens': [100, 200, 500],\n",
    "'formato': 'Comprimido',\n",
    "'administracao': 'Via oral',\n",
    "'marca': 'Marca1',\n",
    "'preco': 6.5\n",
    "}\n",
    "\n",
    "medicamento2 = {\n",
    "'id': 2,\n",
    "'nome': 'Ibuprofeno',\n",
    "'nomeGenerico': 'Advil',\n",
    "'imagem': '2.png',\n",
    "'dosagens': [200, 400, 600],\n",
    "'formato': 'Comprimido',\n",
    "'administracao': 'oral',\n",
    "'marca': 'Marca2',\n",
    "'preco': 4\n",
    "}\n",
    "\n",
    "medicamento3 = {\n",
    "'id': 3,\n",
    "'nome': 'Amoxicilina',\n",
    "'nomeGenerico': 'Amoxil',\n",
    "'imagem': '3.png',\n",
    "'dosagens': [100, 200, 500],\n",
    "'formato': 'Cápsula',\n",
    "'administracao': 'oral',\n",
    "'marca': 'Marca3',\n",
    "'preco': 5.5\n",
    "}\n",
    "\n",
    "medicamento4 = {\n",
    "'id': 4,\n",
    "'nome': 'Losartana',\n",
    "'nomeGenerico': 'Cozaar',\n",
    "'imagem': '4.png',\n",
    "'dosagens': [100, 200, 500],\n",
    "'formato': 'Comprimido',\n",
    "'administracao': 'oral',\n",
    "'marca': 'Marca4',\n",
    "'preco': 2.50\n",
    "}\n",
    "\n",
    "medicamento5 = {\n",
    "'id': 5,\n",
    "'nome': 'Metformina',\n",
    "'nomeGenerico': 'Glucophage',\n",
    "'imagem': '5.png',\n",
    "'dosagens': [100, 200, 500],\n",
    "'formato': 'Comprimido',\n",
    "'administracao': 'oral',\n",
    "'marca': 'Marca5',\n",
    "'preco': 10.50\n",
    "}\n",
    "\n",
    "medicamento6 = {\n",
    "'id': 6,\n",
    "'nome': 'Atorvastatina',\n",
    "'nomeGenerico': 'Lipitor',\n",
    "'imagem': '6.png',\n",
    "'dosagens': [100, 200, 500],\n",
    "'formato': 'Comprimido',\n",
    "'administracao': 'oral',\n",
    "'marca': 'Marca6',\n",
    "'preco': 24.5\n",
    "}"
   ]
  },
  {
   "cell_type": "code",
   "execution_count": 14,
   "id": "29704fe6-2af8-4b37-a546-708afdc546ba",
   "metadata": {
    "tags": []
   },
   "outputs": [],
   "source": [
    "for medication in [medicamento1, medicamento2, medicamento3, medicamento4, medicamento5, medicamento6]:\n",
    "    table = dynamodb.Table('medicamentosv2')\n",
    "    table.put_item(\n",
    "        Item={\n",
    "            'id': int(medication['id']),\n",
    "            'nome': {'S': medication['nome']},\n",
    "            'nomeGenerico': {'S': medication['nomeGenerico']},\n",
    "            'imagem': {'S': medication['imagem']},\n",
    "            'dosagens': {'NS': [str(dosagem) for dosagem in medication['dosagens']]},\n",
    "            'formato': {'S': medication['formato']},\n",
    "            'administracao': {'S': medication['administracao']},\n",
    "            'marca': {'S': medication['marca']},\n",
    "            'preco': {'N': str(medication['preco'])}\n",
    "        }\n",
    "    )"
   ]
  },
  {
   "cell_type": "code",
   "execution_count": 2,
   "id": "28639d3f-fb85-470c-943a-f8ef521afeed",
   "metadata": {
    "tags": []
   },
   "outputs": [],
   "source": [
    "table = dynamodb.create_table(\n",
    "    TableName='receitas',\n",
    "    KeySchema=[\n",
    "        {\n",
    "            'AttributeName': 'id',\n",
    "            'KeyType': 'HASH'\n",
    "        }\n",
    "    ],\n",
    "    AttributeDefinitions=[\n",
    "        {\n",
    "            'AttributeName': 'id',\n",
    "            'AttributeType': 'N'\n",
    "        },\n",
    "    ],\n",
    "    ProvisionedThroughput={\n",
    "        'ReadCapacityUnits': 1,\n",
    "        'WriteCapacityUnits': 1\n",
    "    }\n",
    ")"
   ]
  },
  {
   "cell_type": "code",
   "execution_count": 5,
   "id": "d47ada86-9ba4-48a5-be31-28a6464a9721",
   "metadata": {
    "tags": []
   },
   "outputs": [
    {
     "data": {
      "text/plain": [
       "{'ResponseMetadata': {'RequestId': 'TMR0SJCUMSMUHFS78FL8U3FUJRVV4KQNSO5AEMVJF66Q9ASUAAJG',\n",
       "  'HTTPStatusCode': 200,\n",
       "  'HTTPHeaders': {'server': 'Server',\n",
       "   'date': 'Mon, 15 May 2023 14:09:32 GMT',\n",
       "   'content-type': 'application/x-amz-json-1.0',\n",
       "   'content-length': '2',\n",
       "   'connection': 'keep-alive',\n",
       "   'x-amzn-requestid': 'TMR0SJCUMSMUHFS78FL8U3FUJRVV4KQNSO5AEMVJF66Q9ASUAAJG',\n",
       "   'x-amz-crc32': '2745614147'},\n",
       "  'RetryAttempts': 0}}"
      ]
     },
     "execution_count": 5,
     "metadata": {},
     "output_type": "execute_result"
    }
   ],
   "source": [
    "table = dynamodb.Table('receitas')\n",
    "\n",
    "# Define the item data to be inserted\n",
    "item_data = {\n",
    "    'id': 1,\n",
    "    'medList': [\n",
    "        {\"id\": 1, \"quantidade\": 3},\n",
    "        {\"id\": 2, \"quantidade\": 1},\n",
    "        {\"id\": 3, \"quantidade\": 2}\n",
    "    ],\n",
    "    'userName': 'Manuel Fernandes',\n",
    "    'userID': 123456789\n",
    "}\n",
    "\n",
    "# Insert the item into the table\n",
    "table.put_item(Item=item_data)"
   ]
  },
  {
   "cell_type": "code",
   "execution_count": 3,
   "id": "c5c01c46-04fc-4ec3-bede-5903e72f3c10",
   "metadata": {
    "tags": []
   },
   "outputs": [],
   "source": [
    "table = dynamodb.create_table(\n",
    "    TableName='historico',\n",
    "    KeySchema=[\n",
    "        {\n",
    "            'AttributeName': 'id',\n",
    "            'KeyType': 'HASH'\n",
    "        }\n",
    "    ],\n",
    "    AttributeDefinitions=[\n",
    "        {\n",
    "            'AttributeName': 'id',\n",
    "            'AttributeType': 'N'\n",
    "        },\n",
    "    ],\n",
    "    ProvisionedThroughput={\n",
    "        'ReadCapacityUnits': 1,\n",
    "        'WriteCapacityUnits': 1\n",
    "    }\n",
    ")"
   ]
  },
  {
   "cell_type": "code",
   "execution_count": 5,
   "id": "156104ef",
   "metadata": {},
   "outputs": [],
   "source": [
    "table = dynamodb.create_table(\n",
    "    TableName='historicov2',\n",
    "    KeySchema=[\n",
    "        {\n",
    "            'AttributeName': 'idReceita',\n",
    "            'KeyType': 'HASH'\n",
    "        }\n",
    "    ],\n",
    "    AttributeDefinitions=[\n",
    "        {\n",
    "            'AttributeName': 'idReceita',\n",
    "            'AttributeType': 'N'\n",
    "        },\n",
    "    ],\n",
    "    ProvisionedThroughput={\n",
    "        'ReadCapacityUnits': 1,\n",
    "        'WriteCapacityUnits': 1\n",
    "    }\n",
    ")"
   ]
  }
 ],
 "metadata": {
  "kernelspec": {
   "display_name": "Python 3 (ipykernel)",
   "language": "python",
   "name": "python3"
  },
  "language_info": {
   "codemirror_mode": {
    "name": "ipython",
    "version": 3
   },
   "file_extension": ".py",
   "mimetype": "text/x-python",
   "name": "python",
   "nbconvert_exporter": "python",
   "pygments_lexer": "ipython3",
   "version": "3.11.3"
  }
 },
 "nbformat": 4,
 "nbformat_minor": 5
}
